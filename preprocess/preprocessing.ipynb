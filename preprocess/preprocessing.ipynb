{
 "cells": [
  {
   "attachments": {},
   "cell_type": "markdown",
   "metadata": {},
   "source": [
    "# Preprocessing"
   ]
  },
  {
   "cell_type": "code",
   "execution_count": null,
   "metadata": {},
   "outputs": [],
   "source": [
    "import pandas as pd\n",
    "import re\n",
    "from tqdm import tqdm\n",
    "import os\n",
    "import json"
   ]
  },
  {
   "cell_type": "code",
   "execution_count": null,
   "metadata": {},
   "outputs": [],
   "source": [
    "def cleaning(content):\n",
    "    content = content.replace(\".\\n\\n\",\". \\n\\n\")\n",
    "    content = content.replace(\".\",\". \")\n",
    "    punctuation = u'''!()-[]|{};:'\"\\,<>/?@#$%^&*_~—“””•■\\u2019'''  # punctuation\n",
    "    content = re.sub('\\s+', ' ', content).strip()\n",
    "    \n",
    "    for idx, i in enumerate(content):\n",
    "        if i in punctuation:\n",
    "            content = content.replace(i, \"\")\n",
    "    \n",
    "\n",
    "    content_tmp = (content + '.')[:-1] # copy string to new pointer\n",
    "    done = 0\n",
    "    for idx, i in enumerate(content_tmp): \n",
    "        try: # \n",
    "            if i == '.' and content_tmp[idx+2].isdigit() and content_tmp[idx-1].isdigit():\n",
    "                idx_origin = idx - done\n",
    "                content = content[:idx_origin+1] + content[idx_origin+2:]\n",
    "                done += 1\n",
    "        except Exception as e :\n",
    "            continue\n",
    "\n",
    "    \n",
    "    content = re.sub(\"https*\\S+\", \" \", content)\n",
    "\n",
    "    return content"
   ]
  },
  {
   "cell_type": "code",
   "execution_count": null,
   "metadata": {},
   "outputs": [],
   "source": [
    "a = 'up to 4. 2.'\n",
    "print(cleaning(a))"
   ]
  },
  {
   "attachments": {},
   "cell_type": "markdown",
   "metadata": {},
   "source": [
    "## Evaluating Extractive Summarization Techniques on News Articles (EEST)"
   ]
  },
  {
   "cell_type": "code",
   "execution_count": null,
   "metadata": {},
   "outputs": [],
   "source": [
    "# read by default 1st sheet of an excel file\n",
    "df = pd.read_excel('raw_data\\EEST.xlsx')"
   ]
  },
  {
   "cell_type": "code",
   "execution_count": null,
   "metadata": {},
   "outputs": [],
   "source": [
    "df.theme.unique()"
   ]
  },
  {
   "cell_type": "code",
   "execution_count": null,
   "metadata": {},
   "outputs": [],
   "source": [
    "df_business = df[df.theme == 'business']\n",
    "df_business = df_business[['id','human_summary','content']]"
   ]
  },
  {
   "cell_type": "code",
   "execution_count": null,
   "metadata": {},
   "outputs": [],
   "source": [
    "content_list = list()\n",
    "summary_list = list()\n",
    "for index, row in tqdm(df_business.iterrows()) :\n",
    "    try:\n",
    "        content = cleaning(row['content'])\n",
    "        #content_sentences = nltk.sent_tokenize(content)\n",
    "\n",
    "        summary = cleaning(row['human_summary'])\n",
    "        #summary_sentences = nltk.sent_tokenize(summary)\n",
    "\n",
    "        content_list.append(content)\n",
    "        summary_list.append(summary)\n",
    "    except Exception as e :\n",
    "        print('ERORR:', row)\n",
    "        print(e)\n",
    "\n",
    "df_business[\"content\"] = content_list\n",
    "df_business[\"human_summary\"] = summary_list"
   ]
  },
  {
   "cell_type": "code",
   "execution_count": null,
   "metadata": {},
   "outputs": [],
   "source": [
    "for index, row in tqdm(df_business.iterrows()) :\n",
    "    if 'bundesbank' in row['content']: print(row['content'])"
   ]
  },
  {
   "cell_type": "code",
   "execution_count": null,
   "metadata": {},
   "outputs": [],
   "source": [
    "for index, row in tqdm(df_business.iterrows()) :\n",
    "    _id = row['id']\n",
    "    with open(f'preprocessed_data\\eest\\{_id}.story', 'w', encoding=\"utf-8\") as f:\n",
    "        f.write(row['content'])\n",
    "\n",
    "    with open(f'preprocessed_data\\eest\\{_id}.story', 'a', encoding=\"utf-8\") as f:\n",
    "        f.write('\\n\\n@highlight\\n')\n",
    "        #f.write('\\n\\n@highlight\\n'.join(row['human_summary']))\n",
    "        f.write(row['human_summary'])"
   ]
  },
  {
   "attachments": {},
   "cell_type": "markdown",
   "metadata": {},
   "source": [
    "## BBC News"
   ]
  },
  {
   "cell_type": "code",
   "execution_count": null,
   "metadata": {},
   "outputs": [],
   "source": [
    "path_content = 'raw_data\\BBC_News\\content'\n",
    "path_summary= 'raw_data\\BBC_News\\summary'\n",
    "for file_name in tqdm(os.listdir(path_content)):\n",
    "    with open(f'{path_content}\\{file_name}') as f:\n",
    "        content = f.read()\n",
    "    with open(f'{path_summary}\\{file_name}') as f:\n",
    "        summary = f.read()\n",
    "    \n",
    "    content = cleaning(content)\n",
    "    summary = cleaning(summary)\n",
    "\n",
    "    # if 'bundesbank' in summary: print(summary)\n",
    "    # content_sentences = nltk.sent_tokenize(content)\n",
    "    # summary_sentences = nltk.sent_tokenize(summary)\n",
    "\n",
    "    # create file\n",
    "    with open(f'preprocessed_data\\BBC_News_preprocessed\\{file_name.split(\".\")[0]}.story', 'w') as f:\n",
    "        f.write(content)\n",
    "\n",
    "    with open(f'preprocessed_data\\BBC_News_preprocessed\\{file_name.split(\".\")[0]}.story', 'a') as f:\n",
    "        f.write('\\n\\n@highlight\\n')\n",
    "        f.write(summary)"
   ]
  },
  {
   "attachments": {},
   "cell_type": "markdown",
   "metadata": {},
   "source": [
    "## Bloomberg"
   ]
  },
  {
   "cell_type": "code",
   "execution_count": null,
   "metadata": {},
   "outputs": [],
   "source": [
    "def find_text(d,result_text = ''):\n",
    "    if isinstance(d, dict):\n",
    "        if 'text' in d:\n",
    "            result_text += d['text']\n",
    "        else:\n",
    "            for k, v in d.items():\n",
    "                result = find_text(v)\n",
    "                if result is not None:\n",
    "                    result_text +=result\n",
    "    elif isinstance(d, list):\n",
    "        for item in d:\n",
    "            result = find_text(item)\n",
    "            if result is not None:\n",
    "                result_text +=result\n",
    "    \n",
    "    return result_text\n"
   ]
  },
  {
   "cell_type": "code",
   "execution_count": null,
   "metadata": {},
   "outputs": [],
   "source": [
    "path = \"..\\\\news_rapid_api\\\\full_text\"\n",
    "file_names = list()\n",
    "content_list = list()\n",
    "summary_list = list()\n",
    "for file_name in tqdm(os.listdir(path)):\n",
    "    summary = ''\n",
    "    content_text = ''\n",
    "    try:\n",
    "        with open(f'{path}\\{file_name}', encoding=\"utf8\") as f:\n",
    "            content =  json.loads(f.read())\n",
    "        summary = '. '.join(content['abstract'])\n",
    "        for component in content['components']:\n",
    "            if 'parts' in component:\n",
    "                for part in component['parts']:\n",
    "                    content_text += find_text(part)\n",
    "        content_text = cleaning(content_text)\n",
    "        summary = cleaning(summary)\n",
    "        # print(summary)\n",
    "        # print(content_text)\n",
    "        file_names.append(file_name)\n",
    "        content_list.append(content_text)\n",
    "        summary_list.append(summary)\n",
    "    except: pass"
   ]
  },
  {
   "cell_type": "code",
   "execution_count": null,
   "metadata": {},
   "outputs": [],
   "source": [
    "for index, value in tqdm(enumerate(file_names)) :\n",
    "    with open(f'..\\dataset\\\\finance_preprocessed\\\\bloom_berg\\\\{value}.story', 'w', encoding=\"utf-8\") as f:\n",
    "        f.write(content_list[index])\n",
    "        f.write('\\n\\n@highlight\\n')\n",
    "        f.write(summary_list[index])"
   ]
  },
  {
   "attachments": {},
   "cell_type": "markdown",
   "metadata": {},
   "source": [
    "# Summary Dataset"
   ]
  },
  {
   "cell_type": "code",
   "execution_count": null,
   "metadata": {},
   "outputs": [],
   "source": [
    "bbc = len(os.listdir(r'..\\dataset\\finance_preprocessed\\BBC_News_preprocessed'))\n",
    "bb = len(os.listdir(r'..\\dataset\\finance_preprocessed\\bloom_berg'))\n",
    "eest = len(os.listdir(r'..\\dataset\\finance_preprocessed\\eest'))\n",
    "\n",
    "\n",
    "\n",
    "\n",
    "print('BBC_News_preprocessed: ',bbc)\n",
    "print('Bloom_berg: ',bb)\n",
    "print('EEST: ',eest)\n",
    "print(f'total = {bbc+bb+eest}')"
   ]
  }
 ],
 "metadata": {
  "kernelspec": {
   "display_name": "Python 3",
   "language": "python",
   "name": "python3"
  },
  "language_info": {
   "codemirror_mode": {
    "name": "ipython",
    "version": 3
   },
   "file_extension": ".py",
   "mimetype": "text/x-python",
   "name": "python",
   "nbconvert_exporter": "python",
   "pygments_lexer": "ipython3",
   "version": "3.10.10"
  },
  "orig_nbformat": 4,
  "vscode": {
   "interpreter": {
    "hash": "a86cd34446393e273296ce8bbd3f0b5bbc84cd46194387958b8cb449991794d9"
   }
  }
 },
 "nbformat": 4,
 "nbformat_minor": 2
}
