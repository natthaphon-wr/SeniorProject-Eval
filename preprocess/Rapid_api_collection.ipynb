{
 "cells": [
  {
   "attachments": {},
   "cell_type": "markdown",
   "metadata": {},
   "source": [
    "# Summary"
   ]
  },
  {
   "cell_type": "code",
   "execution_count": null,
   "metadata": {},
   "outputs": [],
   "source": [
    "import pandas as pd\n",
    "import random\n",
    "import json\n",
    "import os\n",
    "import requests\n",
    "from token_api import headers"
   ]
  },
  {
   "attachments": {},
   "cell_type": "markdown",
   "metadata": {},
   "source": [
    "### Rapid API"
   ]
  },
  {
   "cell_type": "code",
   "execution_count": null,
   "metadata": {},
   "outputs": [],
   "source": [
    "file_list = ['market','businessweek','personalFinance','wealth','finance','economics'\n",
    "             ,'market_2','market_3','market_4','market_5', 'market_6','market_7']"
   ]
  },
  {
   "cell_type": "code",
   "execution_count": null,
   "metadata": {},
   "outputs": [],
   "source": [
    "count_abstract_total = 0\n",
    "title = set()\n",
    "all_files = list()\n",
    "news = list()\n",
    "for file in file_list:\n",
    "    count_abstract = 0\n",
    "    file_path = os.path.join('..','news_rapid_api',f'{file}.json')\n",
    "    with open(file_path, encoding=\"utf8\") as f:\n",
    "        data = json.load(f) \n",
    "    all_files.append((file,data))\n",
    "    total_story = 0\n",
    "    for i in data['modules']:\n",
    "        for s in i['stories']:\n",
    "            if len(s['abstract']) != 0:\n",
    "                count_abstract += 1\n",
    "                if not s['title'] in title:\n",
    "                    news.append((file,s))\n",
    "                    title.add(s['title'])\n",
    "    count_abstract_total += count_abstract\n",
    "    print('news with summary: ',count_abstract,' non-duplicated: ',len(title))\n",
    "print('total: ',len(title))\n",
    "    "
   ]
  },
  {
   "cell_type": "code",
   "execution_count": null,
   "metadata": {},
   "outputs": [],
   "source": [
    "def get_text(internalID):\n",
    "   url = \"https://bloomberg-market-and-financial-news.p.rapidapi.com/stories/detail\"\n",
    "   querystring = {\"internalID\":f\"{internalID}\"}\n",
    "   response = requests.request(\"GET\", url, headers=headers, params=querystring)\n",
    "   return response.text"
   ]
  },
  {
   "cell_type": "code",
   "execution_count": null,
   "metadata": {},
   "outputs": [],
   "source": [
    "for i in news:\n",
    "    if not os.path.exists(os.path.join('..','news_rapid_api','full_text',i[1]['internalID'])):\n",
    "        print(i)\n",
    "        with open(os.path.join('..','news_rapid_api','full_text',i[1]['internalID']),'w',encoding=\"utf8\") as f:\n",
    "            text = get_text(i[1]['internalID'])\n",
    "            f.write(text)\n"
   ]
  }
 ],
 "metadata": {
  "kernelspec": {
   "display_name": "Python 3",
   "language": "python",
   "name": "python3"
  },
  "language_info": {
   "codemirror_mode": {
    "name": "ipython",
    "version": 3
   },
   "file_extension": ".py",
   "mimetype": "text/x-python",
   "name": "python",
   "nbconvert_exporter": "python",
   "pygments_lexer": "ipython3",
   "version": "3.10.10"
  },
  "orig_nbformat": 4,
  "vscode": {
   "interpreter": {
    "hash": "a86cd34446393e273296ce8bbd3f0b5bbc84cd46194387958b8cb449991794d9"
   }
  }
 },
 "nbformat": 4,
 "nbformat_minor": 2
}
