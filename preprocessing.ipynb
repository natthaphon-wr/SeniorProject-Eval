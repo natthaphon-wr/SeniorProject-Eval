{
 "cells": [
  {
   "attachments": {},
   "cell_type": "markdown",
   "metadata": {},
   "source": [
    "# Preprocessing"
   ]
  },
  {
   "attachments": {},
   "cell_type": "markdown",
   "metadata": {},
   "source": [
    "## Evaluating Extractive Summarization Techniques on News Articles (EEST)"
   ]
  },
  {
   "cell_type": "code",
   "execution_count": 5,
   "metadata": {},
   "outputs": [],
   "source": [
    "# !pip install tqdm\n",
    "# !pip install install openpyxl"
   ]
  },
  {
   "cell_type": "code",
   "execution_count": 6,
   "metadata": {},
   "outputs": [],
   "source": [
    "import pandas as pd\n",
    "import re\n",
    "from tqdm import tqdm\n",
    "import os"
   ]
  },
  {
   "cell_type": "code",
   "execution_count": 7,
   "metadata": {},
   "outputs": [],
   "source": [
    "def cleaning(content,bbc_news = False):\n",
    "    content = content.replace(\".\\n\\n\",\". \\n\\n\")\n",
    "    content = content.replace(\".\",\". \")\n",
    "    punctuation = u'''!()-[]|{};:'\"\\,<>/?@#$%^&*_~—“””•■\\u2019'''  # punctuation\n",
    "    content = re.sub('\\s+', ' ', content).strip()\n",
    "    \n",
    "    for idx, i in enumerate(content):\n",
    "        if i in punctuation:\n",
    "            content = content.replace(i, \"\")\n",
    "    \n",
    "\n",
    "    content_tmp = (content + '.')[:-1] # copy string to new pointer\n",
    "    done = 0\n",
    "    for idx, i in enumerate(content_tmp): \n",
    "        try: # \n",
    "            if i == '.' and content_tmp[idx+2].isdigit() and content_tmp[idx-1].isdigit():\n",
    "                idx_origin = idx - done\n",
    "                content = content[:idx_origin+1] + content[idx_origin+2:]\n",
    "                done += 1\n",
    "                #print(content_tmp[idx], content[idx])\n",
    "        except Exception as e :\n",
    "            continue\n",
    "\n",
    "    \n",
    "    content = re.sub(\"https*\\S+\", \" \", content)\n",
    "\n",
    "    return content"
   ]
  },
  {
   "cell_type": "code",
   "execution_count": 8,
   "metadata": {},
   "outputs": [],
   "source": [
    "# read by default 1st sheet of an excel file\n",
    "df = pd.read_excel('raw_data\\EEST.xlsx')"
   ]
  },
  {
   "cell_type": "code",
   "execution_count": 9,
   "metadata": {},
   "outputs": [
    {
     "data": {
      "text/plain": [
       "array(['politics', 'crime', 'entertainment', 'technology', 'art',\n",
       "       'science', 'health', 'business', 'architecture', 'lifestyle',\n",
       "       'sports', 'law', 'accidents', 'environment '], dtype=object)"
      ]
     },
     "execution_count": 9,
     "metadata": {},
     "output_type": "execute_result"
    }
   ],
   "source": [
    "df.theme.unique()"
   ]
  },
  {
   "cell_type": "code",
   "execution_count": 10,
   "metadata": {},
   "outputs": [],
   "source": [
    "df_business = df[df.theme == 'business']\n",
    "df_business = df_business[['id','human_summary','content']]"
   ]
  },
  {
   "cell_type": "code",
   "execution_count": 11,
   "metadata": {},
   "outputs": [
    {
     "name": "stderr",
     "output_type": "stream",
     "text": [
      "208it [00:00, 262.84it/s]\n"
     ]
    }
   ],
   "source": [
    "content_list = list()\n",
    "summary_list = list()\n",
    "for index, row in tqdm(df_business.iterrows()) :\n",
    "    try:\n",
    "        content = cleaning(row['content'])\n",
    "        #content_sentences = nltk.sent_tokenize(content)\n",
    "\n",
    "        summary = cleaning(row['human_summary'])\n",
    "        #summary_sentences = nltk.sent_tokenize(summary)\n",
    "\n",
    "        content_list.append(content)\n",
    "        summary_list.append(summary)\n",
    "    except Exception as e :\n",
    "        print('ERORR:', row)\n",
    "        print(e)\n",
    "\n",
    "df_business[\"content\"] = content_list\n",
    "df_business[\"human_summary\"] = summary_list"
   ]
  },
  {
   "cell_type": "code",
   "execution_count": 14,
   "metadata": {},
   "outputs": [
    {
     "name": "stderr",
     "output_type": "stream",
     "text": [
      "208it [00:00, 11554.71it/s]\n"
     ]
    }
   ],
   "source": [
    "for index, row in tqdm(df_business.iterrows()) :\n",
    "    if 'bundesbank' in row['content']: print(row['content'])"
   ]
  },
  {
   "cell_type": "code",
   "execution_count": 16,
   "metadata": {},
   "outputs": [
    {
     "name": "stderr",
     "output_type": "stream",
     "text": [
      "208it [00:00, 686.46it/s]\n"
     ]
    }
   ],
   "source": [
    "for index, row in tqdm(df_business.iterrows()) :\n",
    "    _id = row['id']\n",
    "    with open(f'preprocessed_data\\eest\\{_id}.story', 'w', encoding=\"utf-8\") as f:\n",
    "        f.write(row['content'])\n",
    "\n",
    "    with open(f'preprocessed_data\\eest\\{_id}.story', 'a', encoding=\"utf-8\") as f:\n",
    "        f.write('\\n\\n@highlight\\n')\n",
    "        #f.write('\\n\\n@highlight\\n'.join(row['human_summary']))\n",
    "        f.write(row['human_summary'])"
   ]
  },
  {
   "attachments": {},
   "cell_type": "markdown",
   "metadata": {},
   "source": [
    "## BBC News"
   ]
  },
  {
   "cell_type": "code",
   "execution_count": 17,
   "metadata": {},
   "outputs": [
    {
     "name": "stderr",
     "output_type": "stream",
     "text": [
      "100%|██████████| 510/510 [00:10<00:00, 47.29it/s]\n"
     ]
    }
   ],
   "source": [
    "path_content = 'raw_data\\BBC_News\\content'\n",
    "path_summary= 'raw_data\\BBC_News\\summary'\n",
    "for file_name in tqdm(os.listdir(path_content)):\n",
    "    with open(f'{path_content}\\{file_name}') as f:\n",
    "        content = f.read()\n",
    "    with open(f'{path_summary}\\{file_name}') as f:\n",
    "        summary = f.read()\n",
    "    \n",
    "    content = cleaning(content, bbc_news =True)\n",
    "    summary = cleaning(summary, bbc_news =True)\n",
    "\n",
    "    # if 'bundesbank' in summary: print(summary)\n",
    "    # content_sentences = nltk.sent_tokenize(content)\n",
    "    # summary_sentences = nltk.sent_tokenize(summary)\n",
    "\n",
    "    # create file\n",
    "    with open(f'preprocessed_data\\BBC_News_preprocessed\\{file_name.split(\".\")[0]}.story', 'w') as f:\n",
    "        f.write(content)\n",
    "\n",
    "    with open(f'preprocessed_data\\BBC_News_preprocessed\\{file_name.split(\".\")[0]}.story', 'a') as f:\n",
    "        f.write('\\n\\n@highlight\\n')\n",
    "        f.write(summary)"
   ]
  },
  {
   "attachments": {},
   "cell_type": "markdown",
   "metadata": {},
   "source": [
    "# Summary Dataset"
   ]
  },
  {
   "cell_type": "code",
   "execution_count": 18,
   "metadata": {},
   "outputs": [
    {
     "name": "stdout",
     "output_type": "stream",
     "text": [
      "BBC_News_preprocessed:  510\n",
      "EEST:  208\n"
     ]
    }
   ],
   "source": [
    "print('BBC_News_preprocessed: ',len(os.listdir('preprocessed_data\\BBC_News_preprocessed')))\n",
    "print('EEST: ',len(os.listdir('preprocessed_data\\eest')))"
   ]
  }
 ],
 "metadata": {
  "kernelspec": {
   "display_name": "Python 3",
   "language": "python",
   "name": "python3"
  },
  "language_info": {
   "codemirror_mode": {
    "name": "ipython",
    "version": 3
   },
   "file_extension": ".py",
   "mimetype": "text/x-python",
   "name": "python",
   "nbconvert_exporter": "python",
   "pygments_lexer": "ipython3",
   "version": "3.10.10"
  },
  "orig_nbformat": 4,
  "vscode": {
   "interpreter": {
    "hash": "a86cd34446393e273296ce8bbd3f0b5bbc84cd46194387958b8cb449991794d9"
   }
  }
 },
 "nbformat": 4,
 "nbformat_minor": 2
}
